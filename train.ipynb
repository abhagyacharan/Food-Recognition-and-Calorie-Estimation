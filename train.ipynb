{
 "cells": [
  {
   "cell_type": "markdown",
   "metadata": {},
   "source": [
    "**MODEL CREATION**"
   ]
  },
  {
   "cell_type": "code",
   "execution_count": 26,
   "metadata": {},
   "outputs": [],
   "source": [
    "import keras\n",
    "from keras.applications.inception_v3 import InceptionV3\n",
    "from keras.applications.inception_v3 import preprocess_input, decode_predictions\n",
    "from keras.preprocessing import image\n",
    "from keras.layers import Input\n",
    "import tensorflow as tf\n",
    "from keras import layers\n",
    "from keras.models import Sequential, Model\n",
    "from keras.layers import Dense, Dropout, Activation, Flatten\n",
    "from keras.layers import Convolution2D, MaxPooling2D, ZeroPadding2D, GlobalAveragePooling2D, AveragePooling2D\n",
    "from keras.layers import BatchNormalization\n",
    "from keras.preprocessing.image import ImageDataGenerator\n",
    "from keras.callbacks import ModelCheckpoint, CSVLogger, LearningRateScheduler, ReduceLROnPlateau\n",
    "from keras.optimizers import SGD, RMSprop"
   ]
  },
  {
   "cell_type": "code",
   "execution_count": 27,
   "metadata": {},
   "outputs": [],
   "source": [
    "IMG_SIZE = 400\n",
    "no_of_fruits = 10"
   ]
  },
  {
   "cell_type": "code",
   "execution_count": 28,
   "metadata": {},
   "outputs": [],
   "source": [
    "def create_model():\n",
    "\tmodel = tf.keras.models.Sequential()\n",
    "\tmodel.add(keras.Input(shape=(IMG_SIZE, IMG_SIZE, 3)))\n",
    "\tmodel.add(layers.Conv2D(32,(5,5),activation='relu',padding='same'))\n",
    "\tmodel.add(layers.BatchNormalization())\n",
    "\tmodel.add(layers.Dropout(0.25))\n",
    "\tmodel.add(layers.MaxPooling2D((5, 5), padding='same'))\n",
    "\tmodel.add(layers.Conv2D(64,(5,5),activation='relu',padding='same'))\n",
    "\tmodel.add(layers.BatchNormalization())\n",
    "\tmodel.add(layers.MaxPooling2D((5, 5), padding='same'))\n",
    "\tmodel.add(layers.Dropout(0.25))\n",
    "\tmodel.add(layers.Conv2D(128,(5, 5), activation='relu',padding='same'))\n",
    "\tmodel.add(layers.BatchNormalization())\n",
    "\tmodel.add(layers.MaxPooling2D((5, 5), padding='same'))\n",
    "\tmodel.add(layers.Conv2D(256,(5, 5), activation='relu',padding='same'))\n",
    "\tmodel.add(layers.BatchNormalization())\n",
    "\tmodel.add(layers.MaxPooling2D((5, 5), padding='same'))\n",
    "\tmodel.add(layers.Conv2D(512,(5,5),activation='relu',padding='same'))\n",
    "\tmodel.add(layers.MaxPooling2D((5, 5), padding='same'))\n",
    "\tmodel.add(layers.Conv2D(1024,(5,5),activation='relu',padding='same'))\n",
    "\tmodel.add(layers.MaxPooling2D((5, 5), padding='same'))\n",
    "\tmodel.add(layers.GlobalAveragePooling2D())\n",
    "\tmodel.add(layers.Dense(256, activation='relu'))\n",
    "\tmodel.add(layers.Dense(128, activation='relu'))\n",
    "\tmodel.add(layers.Dropout(.2))\n",
    "\tmodel.add(layers.Dense(64, activation='relu'))\n",
    "\tmodel.add(layers.Dropout(.2))\n",
    "\tmodel.add(layers.Dense(32, activation='relu'))\n",
    "\tmodel.add(layers.Dense(no_of_fruits, activation='softmax'))\n",
    "\treturn model"
   ]
  },
  {
   "cell_type": "markdown",
   "metadata": {},
   "source": [
    "**SEGMENT IMAGE**"
   ]
  },
  {
   "cell_type": "code",
   "execution_count": 29,
   "metadata": {},
   "outputs": [],
   "source": [
    "import cv2\n",
    "import numpy as np\n",
    "import os"
   ]
  },
  {
   "cell_type": "code",
   "execution_count": 30,
   "metadata": {},
   "outputs": [],
   "source": [
    "def calculateFoodArea(image):\n",
    "    img = cv2.cvtColor(image, cv2.COLOR_BGR2GRAY)\n",
    "    image_filter = cv2.medianBlur( img, 5)\n",
    "    image_threshold = cv2.adaptiveThreshold(image_filter,255,cv2.ADAPTIVE_THRESH_GAUSSIAN_C,cv2.THRESH_BINARY,21,2)\n",
    "    contours, hierarchy = cv2.findContours(image_threshold, cv2.RETR_LIST, cv2.CHAIN_APPROX_SIMPLE)\n",
    "    mask = np.zeros(img.shape, np.uint8)\n",
    "    largest_areas = sorted(contours, key=cv2.contourArea)\n",
    "    cv2.drawContours(mask, [largest_areas[-1]], 0, (255,255,255,255), -1)\n",
    "    image_contour = cv2.bitwise_and(image,image,mask = mask)\n",
    "    hsv_image = cv2.cvtColor(image_contour, cv2.COLOR_BGR2HSV)\n",
    "    h,s,v = cv2.split(hsv_image)\n",
    "    mask_plate = cv2.inRange(hsv_image, np.array([0,0,50]), np.array([200,90,250]))\n",
    "    mask_not_plate = cv2.bitwise_not(mask_plate)\n",
    "    fruit_skin = cv2.bitwise_and(image_contour,image_contour,mask = mask_not_plate)\n",
    "    hsv_image = cv2.cvtColor(fruit_skin, cv2.COLOR_BGR2HSV)\n",
    "    skin = cv2.inRange(hsv_image, np.array([0,10,60]), np.array([10,160,255]))\n",
    "    not_skin = cv2.bitwise_not(skin);\n",
    "    fruit = cv2.bitwise_and(fruit_skin,fruit_skin,mask = not_skin) \n",
    "    fruit_black_white = cv2.cvtColor(fruit, cv2.COLOR_BGR2GRAY)\n",
    "    fruit_bin = cv2.inRange(fruit_black_white, 10, 255) \n",
    "    kernel = cv2.getStructuringElement(cv2.MORPH_ELLIPSE,(5,5))\n",
    "    erode_fruit = cv2.erode(fruit_bin,kernel,iterations = 1)\n",
    "    image_threshold = cv2.adaptiveThreshold(erode_fruit,255,cv2.ADAPTIVE_THRESH_GAUSSIAN_C,cv2.THRESH_BINARY,11,2)\n",
    "    contours, hierarchy = cv2.findContours(image_threshold, cv2.RETR_LIST, cv2.CHAIN_APPROX_SIMPLE)\n",
    "    mask_fruit = np.zeros(fruit_bin.shape, np.uint8)\n",
    "    largest_areas = sorted(contours, key=cv2.contourArea)\n",
    "    cv2.drawContours(mask_fruit, [largest_areas[-2]], 0, (255,255,255), -1)\n",
    "    kernel = cv2.getStructuringElement(cv2.MORPH_ELLIPSE,(5,5))\n",
    "    mask_fruit = cv2.dilate(mask_fruit,kernel,iterations = 1)\n",
    "    fruit_final = cv2.bitwise_and(image,image,mask = mask_fruit)\n",
    "    image_threshold = cv2.adaptiveThreshold(mask_fruit,255,cv2.ADAPTIVE_THRESH_GAUSSIAN_C,cv2.THRESH_BINARY,11,2)\n",
    "    contours, hierarchy = cv2.findContours(image_threshold, cv2.RETR_LIST, cv2.CHAIN_APPROX_SIMPLE)\n",
    "    largest_areas = sorted(contours, key=cv2.contourArea)\n",
    "    fruit_contour = largest_areas[-2]\n",
    "    fruit_area = cv2.contourArea(fruit_contour)\n",
    "    skin2 = skin - mask_fruit\n",
    "    kernel = cv2.getStructuringElement(cv2.MORPH_ELLIPSE,(5,5))\n",
    "    skin_e = cv2.erode(skin2,kernel,iterations = 1)\n",
    "    image_threshold = cv2.adaptiveThreshold(skin_e,255,cv2.ADAPTIVE_THRESH_GAUSSIAN_C,cv2.THRESH_BINARY,11,2)\n",
    "    contours, hierarchy = cv2.findContours(image_threshold, cv2.RETR_LIST, cv2.CHAIN_APPROX_SIMPLE)\n",
    "    mask_skin = np.zeros(skin.shape, np.uint8)\n",
    "    largest_areas = sorted(contours, key=cv2.contourArea)\n",
    "    cv2.drawContours(mask_skin, [largest_areas[-2]], 0, (255,255,255), -1)\n",
    "    skin_rect = cv2.minAreaRect(largest_areas[-2])\n",
    "    skin_skin_box = cv2.boxPoints(skin_rect)\n",
    "    skin_skin_box = np.int0(skin_skin_box)\n",
    "    mask_skin2 = np.zeros(skin.shape, np.uint8)\n",
    "    cv2.drawContours(mask_skin2,[skin_skin_box],0,(255,255,255), -1)\n",
    "    pix_height = max(skin_rect[1])\n",
    "    pix_to_cm_multiplier = 5.0/pix_height\n",
    "    skin_area = cv2.contourArea(skin_skin_box)\n",
    "    return fruit_area,fruit_bin ,fruit_final,skin_area, fruit_contour, pix_to_cm_multiplier"
   ]
  },
  {
   "cell_type": "markdown",
   "metadata": {},
   "source": [
    "**CALORIE CALCULATOR**"
   ]
  },
  {
   "cell_type": "code",
   "execution_count": 31,
   "metadata": {},
   "outputs": [],
   "source": [
    "density_map = {1:0.96, 2:0.94, 3:0.72, 4:1.03, 5:0.28, 6:0.67, 7:0.52, 8:0.39, 9:0.81, 10:0.94 }\n",
    "calorie_map = {1:52, 2:89, 3:151, 4:54, 5:412, 6:440, 7:158, 8:69, 9:49, 10:61}\n",
    "skin_multiplier = 5*2.3"
   ]
  },
  {
   "cell_type": "code",
   "execution_count": 32,
   "metadata": {},
   "outputs": [],
   "source": [
    "def computerCalories(label, volume): \n",
    "\tcalorie = calorie_map[int(label)]\n",
    "\tdensity = density_map[int(label)]\n",
    "\tmass = volume*density*1.0\n",
    "\ttotal_calories = (calorie/100.0)*mass\n",
    "\treturn mass, total_calories, calorie"
   ]
  },
  {
   "cell_type": "code",
   "execution_count": 33,
   "metadata": {},
   "outputs": [],
   "source": [
    "def computeVolume(label, area, skin_area, pix_to_cm_multiplier, fruit):\n",
    "\tfruit_area = (area/skin_area)*skin_multiplier \n",
    "\tlabel = int(label)\n",
    "\tvolume = 100\n",
    "\tif label == 2: \n",
    "\t\tfruit_rect = cv2.minAreaRect(fruit)\n",
    "\t\theight = max(fruit_rect[1])*pix_to_cm_multiplier\n",
    "\t\tradius = fruit_area/(2.0*height)\n",
    "\t\tvolume = np.pi*radius*radius*height\n",
    "\telse:\n",
    "\t\tradius = np.sqrt(fruit_area/np.pi)\n",
    "\t\tvolume = (4/3)*np.pi*radius*radius*radius\n",
    "\n",
    "\treturn volume"
   ]
  },
  {
   "cell_type": "code",
   "execution_count": 34,
   "metadata": {},
   "outputs": [],
   "source": [
    "def calories(result,img):\n",
    "    img_path =img \n",
    "    fruit_areas,fruit_bin,fruit_final,skin_areas, fruits, pix_cm = calculateFoodArea(img_path)\n",
    "    volume = computeVolume(result, fruit_areas, skin_areas, pix_cm, fruits)\n",
    "    mass, cal, cal100 = computerCalories(result, volume)\n",
    "    fruit_volumes=volume\n",
    "    fruit_calories=cal\n",
    "    fruit_calories_100grams=cal100\n",
    "    fruit_mass=mass\n",
    "    return fruit_calories"
   ]
  },
  {
   "cell_type": "markdown",
   "metadata": {},
   "source": [
    "**RUN**"
   ]
  },
  {
   "cell_type": "code",
   "execution_count": 35,
   "metadata": {},
   "outputs": [],
   "source": [
    "from flask import Flask,render_template,flash, request, redirect, url_for\n",
    "from werkzeug.utils import secure_filename\n",
    "import os\n",
    "import random"
   ]
  },
  {
   "cell_type": "code",
   "execution_count": 36,
   "metadata": {},
   "outputs": [],
   "source": [
    "IMG_SIZE = 400\n",
    "LR = 1e-3\n",
    "no_of_fruits=10"
   ]
  },
  {
   "cell_type": "code",
   "execution_count": 37,
   "metadata": {},
   "outputs": [],
   "source": [
    "MODEL_NAME = ''"
   ]
  },
  {
   "cell_type": "code",
   "execution_count": 38,
   "metadata": {},
   "outputs": [],
   "source": [
    "app = Flask('__name__')\n",
    "UPLOAD_FOLDER = 'static\\images'\n",
    "app.secret_key = \"secret key\"\n",
    "app.config['UPLOAD_FOLDER'] = UPLOAD_FOLDER\n",
    "app.config['MAX_CONTENT_LENGTH'] = 16 * 1024 * 1024\n",
    "ALLOWED_EXTENSIONS = set(['png', 'jpg', 'jpeg', 'gif'])"
   ]
  },
  {
   "cell_type": "code",
   "execution_count": 39,
   "metadata": {},
   "outputs": [],
   "source": [
    "def allowed_file(filename):\n",
    "\treturn '.' in filename and filename.rsplit('.', 1)[1].lower() in ALLOWED_EXTENSIONS"
   ]
  },
  {
   "cell_type": "code",
   "execution_count": 40,
   "metadata": {},
   "outputs": [],
   "source": [
    "@app.route('/predict', methods=['POST'])\n",
    "def upload_image():\n",
    "    if 'file' not in request.files:\n",
    "       flash('No file part')\n",
    "       return redirect(request.url)\n",
    "    file = request.files['file']\n",
    "    if file.filename == '':\n",
    "        flash('No image selected for uploading')\n",
    "        return redirect(request.url)\n",
    "    if file and allowed_file(file.filename):\n",
    "        filename = secure_filename(file.filename)\n",
    "        image_path = os.path.join(app.config['UPLOAD_FOLDER'], filename)\n",
    "        file.save(image_path)\n",
    "        model_save_at=os.path.join(\"model\",MODEL_NAME)\n",
    "        model = keras.models.load_model(model_save_at)\n",
    "        model.compile(optimizer=\"adam\", loss=\"categorical_crossentropy\", metrics=[\"accuracy\"])\n",
    "        labels=list(np.load('label.npy'))        \n",
    "        img=cv2.imread(image_path)\n",
    "        img1=cv2.resize(img,(IMG_SIZE,IMG_SIZE))\n",
    "        img1 = np.array(img1).reshape(1,400,400,3)\n",
    "        model_out=model.predict(img1)\n",
    "        result=np.argmax(model_out)\n",
    "        name = labels[result].lower()\n",
    "        cal=str(round(calories(result+1,img),2))\n",
    "        if name == \"apple\":\n",
    "           cal = \"Calories: \"+cal + \" KCal\"\n",
    "           food_name = \"Apple\"\n",
    "           desc = \"Apples are one of the most popular fruits — and for good reason.\\n They’re an exceptionally healthy fruit with many research-backed benefits.\\n Apples May Be Good for Weight Loss and your heart. They May Have Prebiotic Effects and Promote Good Gut Bacteria.\\n\"\n",
    "        elif name == \"banana\":\n",
    "           cal = \"Calories: \"+cal + \" KCal\"\n",
    "           food_name = \"Banana\"\n",
    "           desc = \"Bananas are one of the most popular fruits worldwide.\\n They contain essential nutrients fiber, potassium, folate, and antioxidants, such as vitamin C that can have a protective impact on health.\\nBananas are rich in soluble fiber.\\n During digestion, soluble fiber dissolves in liquid to form a gel. It’s also what gives bananas their sponge-like texture.\\n\"\n",
    "        elif name == \"beans\":\n",
    "           cal = \"Calories: \"+cal + \" KCal\"\n",
    "           food_name = \"Beans\"\n",
    "           desc = \"Green beans are full of fiber, which is an important nutrient for many reasons.\\n Soluble fiber, in particular, may help to improve the health of your heart by lowering your LDL cholesterol (bad cholesterol) levels.\\n Green beans, string beans, or snap beans are a rich source of vitamins A, C, and K, and of folic acid and fiber.\\n\"\n",
    "        elif name == \"egg\":\n",
    "           cal = \"Calories: \"+cal + \" KCal\"\n",
    "           food_name = \"Egg\"\n",
    "           desc = \"Eggs have lots of nutrients, but the health boost you get depends on the way you prepare the meal.\\n Hard-boiled eggs are an excellent source of lean protein.\\n They are also a source of vitamin A, vitamin D, calcium, and iron. \\n\"\n",
    "        elif name == \"doughnut\":\n",
    "           cal = \"Calories: \"+cal + \" KCal\"\n",
    "           food_name = \"Doughnuts\"\n",
    "           desc = \"Doughnuts are usually deep fried from a flour dough, but other types of batters can also be used. Various toppings and flavorings are used for different types, such as sugar, chocolate or maple glazing.\\n Doughnuts may also include water, leavening, eggs, milk, sugar, oil, shortening, and natural or artificial flavors.\\n The two most common types are the ring doughnut and the filled doughnut, which is injected with fruit preserves (the jelly doughnut), cream, custard, or other sweet fillings.\\n\"\n",
    "        elif name == \"mooncake\":\n",
    "           cal = \"Calories: \"+cal + \" KCal\"\n",
    "           food_name = \"Moon Cake\"\n",
    "           desc = \"Mooncakes are round or square in shape, and have a pastry exterior with a dense, sweet filling usually made from lotus paste.\\n Many of them also contain a salted duck yolk. Mooncakes are often sliced into wedges, and shared with the family along with tea.\\n Mooncakes are composed of two parts, the skin and the filling.\\ The skin is made with flour, golden syrup, alkaline water, and cooking oil. The traditional lotus paste filling is made with lotus seeds, with the option to include sesame and nuts.\\n\"\n",
    "        elif name == \"pasta\":\n",
    "           cal = \"Calories: \"+cal + \" KCal\"\n",
    "           food_name = \"Spaghetti Pasta\"\n",
    "           desc = \"Spaghetti is a long, thin, solid, cylindrical pasta. It is a staple food of traditional Italian cuisine.\\n Like other pasta, spaghetti is made of milled wheat and water and sometimes enriched with vitamins and minerals.\\n Spaghetti is made from ground grain (flour) and water. Whole-wheat and multigrain spaghetti are also available.\\nRegular spaghetti is fairly neutral, diet-wise, but whole-wheat spaghetti can be a good source of fiber.\\n\"\n",
    "        elif name == \"grape\":\n",
    "           cal = \"Calories: \"+cal + \" KCal\"\n",
    "           food_name = \"Grapes\"\n",
    "           desc = \"Grapes offer a wealth of health benefits due to their high nutrient and antioxidant contents.\\nCompounds found in grapes may help protect against high cholesterol levels by decreasing cholesterol absorption. \\n\"\n",
    "        elif name == \"orange\":\n",
    "           cal = \"Calories: \"+cal+ \" KCal\"\n",
    "           food_name = \"Orange\"\n",
    "           desc = \"Oranges are a treasure trove of nutrients and protective plant compounds, including vitamins, minerals, and antioxidants. \\n Oranges are a good source of fiber and a rich source of vitamin C and folate, among many other beneficial nutrients.\\n Oranges may benefit heart health, reduce the risk of some chronic diseases, enhance iron absorption, and support a healthy immune response.\\n\"\n",
    "        elif name == \"qiwi\":\n",
    "           cal = \"Calories: \"+cal + \" KCal\"\n",
    "           food_name = \"Qiwi\"\n",
    "           desc = \"Qiwis are high in Vitamin C  and dietary fiber and provide a variety of health benefits.\\n This tart fruit can support heart health, digestive health, and immunity. \\n The kiwi is a healthy choice of fruit and is rich with vitamins and antioxidants.\\n Its tart flavor, pleasing texture, and low calorie count make it a delicious and healthy option for snacking, sides, or a unique dessert. \\nThe kiwifruit possesses properties that lower blood pressure. By helping to maintain a healthy blood pressure and providing a boost of Vitamin C, the kiwifruit can reduce the risk of stroke  and heart disease.\\n\"\n",
    "        else:\n",
    "            cal = \"Calories: \"+cal + \" KCal\"\n",
    "            food_name = \"Pasta\"\n",
    "            desc = \"Spaghetti is a long, thin, solid, cylindrical pasta. It is a staple food of traditional Italian cuisine.\\n Like other pasta, spaghetti is made of milled wheat and water and sometimes enriched with vitamins and minerals.\\n Spaghetti is made from ground grain (flour) and water. Whole-wheat and multigrain spaghetti are also available.\\nRegular spaghetti is fairly neutral, diet-wise, but whole-wheat spaghetti can be a good source of fiber.\\n\"\n",
    "        return render_template('predict.html', filename=filename,name=food_name,calories=cal,description=desc)\n",
    "    else:\n",
    "        flash('Allowed image types are -> png, jpg, jpeg, gif')\n",
    "        return redirect(request.url)   "
   ]
  },
  {
   "cell_type": "code",
   "execution_count": 41,
   "metadata": {},
   "outputs": [],
   "source": [
    "@app.route('/display/<filename>')\n",
    "def display_image(filename):\t\n",
    "\treturn redirect(url_for('static', filename='images/' + filename), code=301)"
   ]
  },
  {
   "cell_type": "code",
   "execution_count": 42,
   "metadata": {},
   "outputs": [],
   "source": [
    "@app.route('/')\n",
    "def main_page():\n",
    "    return render_template('index.html')"
   ]
  },
  {
   "cell_type": "code",
   "execution_count": 43,
   "metadata": {},
   "outputs": [],
   "source": [
    "@app.route('/predict')\n",
    "def predict():\n",
    "    return render_template('predict.html')"
   ]
  },
  {
   "cell_type": "code",
   "execution_count": 44,
   "metadata": {},
   "outputs": [
    {
     "name": "stdout",
     "output_type": "stream",
     "text": [
      " * Serving Flask app '__name__'\n",
      " * Debug mode: on\n"
     ]
    },
    {
     "name": "stderr",
     "output_type": "stream",
     "text": [
      "WARNING: This is a development server. Do not use it in a production deployment. Use a production WSGI server instead.\n",
      " * Running on http://127.0.0.1:5000\n",
      "Press CTRL+C to quit\n",
      " * Restarting with watchdog (windowsapi)\n"
     ]
    },
    {
     "ename": "SystemExit",
     "evalue": "1",
     "output_type": "error",
     "traceback": [
      "An exception has occurred, use %tb to see the full traceback.\n",
      "\u001b[1;31mSystemExit\u001b[0m\u001b[1;31m:\u001b[0m 1\n"
     ]
    },
    {
     "name": "stderr",
     "output_type": "stream",
     "text": [
      "d:\\Anaconda\\lib\\site-packages\\IPython\\core\\interactiveshell.py:3468: UserWarning: To exit: use 'exit', 'quit', or Ctrl-D.\n",
      "  warn(\"To exit: use 'exit', 'quit', or Ctrl-D.\", stacklevel=1)\n"
     ]
    }
   ],
   "source": [
    "if __name__ == '__main__':\n",
    "    app.run(debug=True)"
   ]
  },
  {
   "cell_type": "code",
   "execution_count": null,
   "metadata": {},
   "outputs": [],
   "source": []
  }
 ],
 "metadata": {
  "language_info": {
   "name": "python"
  }
 },
 "nbformat": 4,
 "nbformat_minor": 2
}
